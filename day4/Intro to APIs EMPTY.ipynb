{
 "cells": [
  {
   "cell_type": "markdown",
   "id": "7196054f",
   "metadata": {},
   "source": [
    "# Working with APIs"
   ]
  },
  {
   "cell_type": "markdown",
   "id": "0547b71e",
   "metadata": {},
   "source": [
    "API stands for Application programming interface<br>\n",
    "APIs are a way for applications to talk to eachother<br>\n",
    "In python we use the requests package to handle the connection<br>\n",
    "<small><strong>Note: It is requests with an s not request(this is a different package)</strong></small><br>\n",
    "Most API's communicate with data in the form of JSON<br>\n",
    "JSON stands for JavaScript Object Notation"
   ]
  },
  {
   "attachments": {},
   "cell_type": "markdown",
   "id": "cc80a1f0",
   "metadata": {},
   "source": [
    "### importing requests module"
   ]
  },
  {
   "cell_type": "code",
   "execution_count": 1,
   "id": "4db9d154",
   "metadata": {},
   "outputs": [],
   "source": [
    "import requests "
   ]
  },
  {
   "cell_type": "markdown",
   "id": "e8c2ce51",
   "metadata": {},
   "source": [
    "We will be connecting to the Pokemon API today:\n",
    "https://pokeapi.co/api/v2/pokemon/\n",
    "\n",
    "\n",
    "to view JSON data nicely in the Chrome browser install the extension JSONview"
   ]
  },
  {
   "cell_type": "code",
   "execution_count": 145,
   "id": "52c440c6",
   "metadata": {},
   "outputs": [],
   "source": [
    "# Make sure to attach extension .json at the end of url\n",
    "url = 'https://pokeapi.co/api/v2/pokemon/1/'"
   ]
  },
  {
   "attachments": {},
   "cell_type": "markdown",
   "id": "1f8dc8b3",
   "metadata": {},
   "source": [
    "### using the request package to access data from api/url"
   ]
  },
  {
   "cell_type": "code",
   "execution_count": 72,
   "id": "07432873",
   "metadata": {},
   "outputs": [
    {
     "name": "stdout",
     "output_type": "stream",
     "text": [
      "<class 'requests.models.Response'>\n"
     ]
    }
   ],
   "source": [
    "response = requests.get(url)\n",
    "print(type(response))"
   ]
  },
  {
   "attachments": {},
   "cell_type": "markdown",
   "id": "52f840a9",
   "metadata": {},
   "source": [
    "### checking and making sure we got a successful response from our API\n",
    "#### status codes: 200 = ok/successful, 400 = bad/unsuccessful"
   ]
  },
  {
   "cell_type": "code",
   "execution_count": 73,
   "id": "7b63a204",
   "metadata": {},
   "outputs": [
    {
     "data": {
      "text/plain": [
       "True"
      ]
     },
     "execution_count": 73,
     "metadata": {},
     "output_type": "execute_result"
    }
   ],
   "source": [
    "response.status_code\n",
    "response.ok"
   ]
  },
  {
   "attachments": {},
   "cell_type": "markdown",
   "id": "bc3fa89d",
   "metadata": {},
   "source": [
    "### view the response as a JSON with .json()"
   ]
  },
  {
   "cell_type": "code",
   "execution_count": 76,
   "id": "ed4d3256",
   "metadata": {},
   "outputs": [],
   "source": [
    "data = response.json()"
   ]
  },
  {
   "attachments": {},
   "cell_type": "markdown",
   "id": "3b49045f",
   "metadata": {},
   "source": [
    "### Get Pokemom Data from JSON"
   ]
  },
  {
   "cell_type": "code",
   "execution_count": 150,
   "id": "afc55f96",
   "metadata": {},
   "outputs": [
    {
     "name": "stdout",
     "output_type": "stream",
     "text": [
      "{'name': 'bulbasaur', 'url': 'https://pokeapi.co/api/v2/pokemon-form/1/'}\n",
      "{'ability': {'name': 'overgrow', 'url': 'https://pokeapi.co/api/v2/ability/65/'}, 'is_hidden': False, 'slot': 1}\n",
      "64\n"
     ]
    }
   ],
   "source": [
    "pokemon_char_name = data['forms'][0]\n",
    "print(pokemon_char_name)\n",
    "\n",
    "pokemon_char_data = data['abilities'][0]\n",
    "print(pokemon_char_data)\n",
    "\n",
    "pokemon_base_experience = data['base_experience']\n",
    "print(pokemon_base_experience)\n",
    "\n",
    "\n",
    "# **** url to it's sprite - \"front_shiny or dream_world\" ****\n",
    "\n",
    "    #name\n",
    "    #1+ ability name,\n",
    "    #base experience\n",
    "    #url to it's sprite - \"front_shiny or dream_world\"\n",
    "    #attack base stat\n",
    "    #hp base stat\n",
    "    # and defence base statprint(pokemon_base_experience)"
   ]
  },
  {
   "cell_type": "code",
   "execution_count": 7,
   "id": "e4cd855a",
   "metadata": {},
   "outputs": [
    {
     "ename": "SyntaxError",
     "evalue": "invalid syntax (156140282.py, line 1)",
     "output_type": "error",
     "traceback": [
      "\u001b[0;36m  Cell \u001b[0;32mIn[7], line 1\u001b[0;36m\u001b[0m\n\u001b[0;31m    pokemon_front_shiny = data['https://raw.githubusercontent.com/PokeAPI/sprites/master/sprites/pokemon/shiny/1.png']{10}\u001b[0m\n\u001b[0m                                                                                                                      ^\u001b[0m\n\u001b[0;31mSyntaxError\u001b[0m\u001b[0;31m:\u001b[0m invalid syntax\n"
     ]
    }
   ],
   "source": [
    "pokemon_front_shiny = data['https://raw.githubusercontent.com/PokeAPI/sprites/master/sprites/pokemon/shiny/1.png']{10}\n",
    "print(pokemon_front_shiny)\n"
   ]
  },
  {
   "cell_type": "code",
   "execution_count": 16,
   "id": "f074dfcf",
   "metadata": {},
   "outputs": [],
   "source": []
  },
  {
   "attachments": {},
   "cell_type": "markdown",
   "id": "459823db",
   "metadata": {},
   "source": [
    "### Use a for loop to display all driver full names"
   ]
  },
  {
   "cell_type": "code",
   "execution_count": 86,
   "id": "be46a950",
   "metadata": {},
   "outputs": [
    {
     "ename": "KeyError",
     "evalue": "'forms'",
     "output_type": "error",
     "traceback": [
      "\u001b[0;31m---------------------------------------------------------------------------\u001b[0m",
      "\u001b[0;31mKeyError\u001b[0m                                  Traceback (most recent call last)",
      "\u001b[1;32m/Users/jenilljackson/Desktop/Codingtemple/thieves_133/week4/day4/Intro to APIs EMPTY.ipynb Cell 17\u001b[0m line \u001b[0;36m1\n\u001b[0;32m----> <a href='vscode-notebook-cell:/Users/jenilljackson/Desktop/Codingtemple/thieves_133/week4/day4/Intro%20to%20APIs%20EMPTY.ipynb#X22sZmlsZQ%3D%3D?line=0'>1</a>\u001b[0m pokemon_char_data \u001b[39m=\u001b[39m data[\u001b[39m'\u001b[39m\u001b[39mabilities\u001b[39m\u001b[39m'\u001b[39m] [\u001b[39m0\u001b[39m] [\u001b[39m'\u001b[39m\u001b[39mforms\u001b[39m\u001b[39m'\u001b[39m] \n\u001b[1;32m      <a href='vscode-notebook-cell:/Users/jenilljackson/Desktop/Codingtemple/thieves_133/week4/day4/Intro%20to%20APIs%20EMPTY.ipynb#X22sZmlsZQ%3D%3D?line=1'>2</a>\u001b[0m \u001b[39mprint\u001b[39m(pokemon_char_data)\n",
      "\u001b[0;31mKeyError\u001b[0m: 'forms'"
     ]
    }
   ],
   "source": []
  },
  {
   "cell_type": "code",
   "execution_count": null,
   "id": "a134ca31",
   "metadata": {},
   "outputs": [],
   "source": []
  },
  {
   "attachments": {},
   "cell_type": "markdown",
   "id": "43c20f0d",
   "metadata": {},
   "source": [
    "### Create a function getting certain driver info (givenName, familyName, dateOfBirth, wins, team)"
   ]
  },
  {
   "cell_type": "code",
   "execution_count": null,
   "id": "3740c752",
   "metadata": {},
   "outputs": [],
   "source": []
  },
  {
   "attachments": {},
   "cell_type": "markdown",
   "id": "1a713b13",
   "metadata": {},
   "source": [
    "### Making a more flexible function to handle different years and rounds"
   ]
  },
  {
   "cell_type": "code",
   "execution_count": 24,
   "id": "e9866280",
   "metadata": {},
   "outputs": [],
   "source": []
  },
  {
   "cell_type": "markdown",
   "id": "6d546014",
   "metadata": {},
   "source": [
    "# <strong>Homework</strong>\n",
    "check out this Pokemon API https://pokeapi.co/\n",
    "Use the requests package to connect to this API and get and store data for 5 different pokemon.\n",
    "Get the pokemons: name, atleast one ability's name, base_experience, and the URL for its sprite (an image that shows up on screen) for the 'front_shiny', attack base_stat, hp base_stat, defense base_stat"
   ]
  },
  {
   "cell_type": "code",
   "execution_count": null,
   "id": "5a9081e3",
   "metadata": {},
   "outputs": [],
   "source": [
    "#import needed Libraries - Pokemon #1, 2, 3, 4, 5\n",
    "#Set URL\n",
    "#Must return to 200 \n",
    "#store the response\n",
    "#print loop that gets up details of 5 different pokemon\n",
    "#Needs to display:\n",
    "    #name\n",
    "    #1+ ability name,\n",
    "    #base experience\n",
    "    #url to it's sprite\n",
    "    #attack base stat\n",
    "    #hp base stat\n",
    "    # and defence base stat\n",
    "\n",
    "\n"
   ]
  }
 ],
 "metadata": {
  "kernelspec": {
   "display_name": "Python 3.10.8 64-bit (microsoft store)",
   "language": "python",
   "name": "python3"
  },
  "language_info": {
   "codemirror_mode": {
    "name": "ipython",
    "version": 3
   },
   "file_extension": ".py",
   "mimetype": "text/x-python",
   "name": "python",
   "nbconvert_exporter": "python",
   "pygments_lexer": "ipython3",
   "version": "3.11.4"
  },
  "vscode": {
   "interpreter": {
    "hash": "aa82987a71ca0339a52998cd22613b0c002bda8349fa32a0cb67ceec3936a2bf"
   }
  }
 },
 "nbformat": 4,
 "nbformat_minor": 5
}
