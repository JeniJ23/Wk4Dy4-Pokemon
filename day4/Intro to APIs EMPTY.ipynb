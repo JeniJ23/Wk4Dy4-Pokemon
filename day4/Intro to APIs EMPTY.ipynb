{
 "cells": [
  {
   "cell_type": "markdown",
   "id": "7196054f",
   "metadata": {},
   "source": [
    "# Working with APIs"
   ]
  },
  {
   "cell_type": "markdown",
   "id": "0547b71e",
   "metadata": {},
   "source": [
    "API stands for Application programming interface<br>\n",
    "APIs are a way for applications to talk to eachother<br>\n",
    "In python we use the requests package to handle the connection<br>\n",
    "<small><strong>Note: It is requests with an s not request(this is a different package)</strong></small><br>\n",
    "Most API's communicate with data in the form of JSON<br>\n",
    "JSON stands for JavaScript Object Notation"
   ]
  },
  {
   "attachments": {},
   "cell_type": "markdown",
   "id": "cc80a1f0",
   "metadata": {},
   "source": [
    "### importing requests module"
   ]
  },
  {
   "cell_type": "code",
   "execution_count": 26,
   "id": "4db9d154",
   "metadata": {},
   "outputs": [],
   "source": [
    "import requests "
   ]
  },
  {
   "cell_type": "markdown",
   "id": "e8c2ce51",
   "metadata": {},
   "source": [
    "We will be connecting to the Pokemon API today:\n",
    "https://pokeapi.co/api/v2/pokemon/1/\n",
    "https://pokeapi.co/api/v2/pokemon/2/\n",
    "https://pokeapi.co/api/v2/pokemon/3/\n",
    "https://pokeapi.co/api/v2/pokemon/4/\n",
    "https://pokeapi.co/api/v2/pokemon/5/\n",
    "\n",
    "\n",
    "to view JSON data nicely in the Chrome browser install the extension JSONview"
   ]
  },
  {
   "cell_type": "code",
   "execution_count": 27,
   "id": "52c440c6",
   "metadata": {},
   "outputs": [],
   "source": [
    "# Make sure to attach extension .json at the end of url\n",
    "url = 'https://pokeapi.co/api/v2/pokemon/1/'"
   ]
  },
  {
   "attachments": {},
   "cell_type": "markdown",
   "id": "1f8dc8b3",
   "metadata": {},
   "source": [
    "### using the request package to access data from api/url"
   ]
  },
  {
   "cell_type": "code",
   "execution_count": 28,
   "id": "07432873",
   "metadata": {},
   "outputs": [
    {
     "name": "stdout",
     "output_type": "stream",
     "text": [
      "<class 'requests.models.Response'>\n"
     ]
    }
   ],
   "source": [
    "response = requests.get(url)\n",
    "print(type(response))"
   ]
  },
  {
   "attachments": {},
   "cell_type": "markdown",
   "id": "52f840a9",
   "metadata": {},
   "source": [
    "### checking and making sure we got a successful response from our API\n",
    "#### status codes: 200 = ok/successful, 400 = bad/unsuccessful"
   ]
  },
  {
   "cell_type": "code",
   "execution_count": 29,
   "id": "7b63a204",
   "metadata": {},
   "outputs": [
    {
     "data": {
      "text/plain": [
       "True"
      ]
     },
     "execution_count": 29,
     "metadata": {},
     "output_type": "execute_result"
    }
   ],
   "source": [
    "response.status_code\n",
    "response.ok"
   ]
  },
  {
   "attachments": {},
   "cell_type": "markdown",
   "id": "bc3fa89d",
   "metadata": {},
   "source": [
    "### view the response as a JSON with .json()"
   ]
  },
  {
   "cell_type": "code",
   "execution_count": 30,
   "id": "ed4d3256",
   "metadata": {},
   "outputs": [],
   "source": [
    "data = response.json()"
   ]
  },
  {
   "attachments": {},
   "cell_type": "markdown",
   "id": "3b49045f",
   "metadata": {},
   "source": [
    "### Get Pokemom Data from JSON"
   ]
  },
  {
   "cell_type": "code",
   "execution_count": 35,
   "id": "afc55f96",
   "metadata": {},
   "outputs": [
    {
     "name": "stdout",
     "output_type": "stream",
     "text": [
      "bulbasaur\n",
      "overgrow\n",
      "64\n",
      "https://raw.githubusercontent.com/PokeAPI/sprites/master/sprites/pokemon/shiny/1.png\n",
      "[{'base_stat': 45, 'effort': 0, 'stat': {'name': 'hp', 'url': 'https://pokeapi.co/api/v2/stat/1/'}}, {'base_stat': 49, 'effort': 0, 'stat': {'name': 'attack', 'url': 'https://pokeapi.co/api/v2/stat/2/'}}, {'base_stat': 49, 'effort': 0, 'stat': {'name': 'defense', 'url': 'https://pokeapi.co/api/v2/stat/3/'}}, {'base_stat': 65, 'effort': 1, 'stat': {'name': 'special-attack', 'url': 'https://pokeapi.co/api/v2/stat/4/'}}, {'base_stat': 65, 'effort': 0, 'stat': {'name': 'special-defense', 'url': 'https://pokeapi.co/api/v2/stat/5/'}}, {'base_stat': 45, 'effort': 0, 'stat': {'name': 'speed', 'url': 'https://pokeapi.co/api/v2/stat/6/'}}]\n"
     ]
    }
   ],
   "source": [
    "#1 -- BULBASAUR --url = 'https://pokeapi.co/api/v2/pokemon/1/'\n",
    "\n",
    "pokemon_char_name = data['forms'][0]['name']\n",
    "print(pokemon_char_name)\n",
    "\n",
    "pokemon_char_data = data['abilities'][0]['ability']['name']\n",
    "print(pokemon_char_data)\n",
    "\n",
    "pokemon_base_experience = data['base_experience']\n",
    "print(pokemon_base_experience)\n",
    "\n",
    "pokemon_front_shiny = data['sprites']['front_shiny']\n",
    "print(pokemon_front_shiny)\n",
    "\n",
    "pokemon_attack_baseStats = data['stats']\n",
    "print(pokemon_attack_baseStats)\n",
    "\n",
    "\n",
    "# **** url to it's sprite - \"front_shiny or dream_world\" ****\n",
    "\n",
    "    #name\n",
    "    #1+ ability name,\n",
    "    #base experience\n",
    "    #url to it's sprite - \"front_shiny or dream_world\"\n",
    "    #attack base stat\n",
    "    #hp base stat\n",
    "    # and defence base statprint(pokemon_base_experience)"
   ]
  },
  {
   "cell_type": "code",
   "execution_count": 36,
   "id": "e4cd855a",
   "metadata": {},
   "outputs": [
    {
     "name": "stdout",
     "output_type": "stream",
     "text": [
      "bulbasaur\n",
      "overgrow\n",
      "64\n",
      "https://raw.githubusercontent.com/PokeAPI/sprites/master/sprites/pokemon/shiny/1.png\n",
      "[{'base_stat': 45, 'effort': 0, 'stat': {'name': 'hp', 'url': 'https://pokeapi.co/api/v2/stat/1/'}}, {'base_stat': 49, 'effort': 0, 'stat': {'name': 'attack', 'url': 'https://pokeapi.co/api/v2/stat/2/'}}, {'base_stat': 49, 'effort': 0, 'stat': {'name': 'defense', 'url': 'https://pokeapi.co/api/v2/stat/3/'}}, {'base_stat': 65, 'effort': 1, 'stat': {'name': 'special-attack', 'url': 'https://pokeapi.co/api/v2/stat/4/'}}, {'base_stat': 65, 'effort': 0, 'stat': {'name': 'special-defense', 'url': 'https://pokeapi.co/api/v2/stat/5/'}}, {'base_stat': 45, 'effort': 0, 'stat': {'name': 'speed', 'url': 'https://pokeapi.co/api/v2/stat/6/'}}]\n"
     ]
    }
   ],
   "source": [
    "#2 -- IVYSAUR --url = 'https://pokeapi.co/api/v2/pokemon/2/'\n",
    "\n",
    "poke_char_name = data['forms'][0]['name']\n",
    "print(pokemon_char_name)\n",
    "\n",
    "pokemon_char_data = data['abilities'][0]['ability']['name']\n",
    "print(pokemon_char_data)\n",
    "\n",
    "pokemon_base_experience = data['base_experience']\n",
    "print(pokemon_base_experience)\n",
    "\n",
    "pokemon_front_shiny = data['sprites']['front_shiny']\n",
    "print(pokemon_front_shiny)\n",
    "\n",
    "pokemon_attack_baseStats = data['stats']\n",
    "print(pokemon_attack_baseStats)\n",
    "\n",
    "\n",
    "# **** url to it's sprite - \"front_shiny or dream_world\" ****\n",
    "\n",
    "    #name\n",
    "    #1+ ability name,\n",
    "    #base experience\n",
    "    #url to it's sprite - \"front_shiny or dream_world\"\n",
    "    #attack base stat\n",
    "    #hp base stat\n",
    "    # and defence base statprint(pokemon_base_experience)"
   ]
  },
  {
   "cell_type": "code",
   "execution_count": 37,
   "id": "f074dfcf",
   "metadata": {},
   "outputs": [
    {
     "name": "stdout",
     "output_type": "stream",
     "text": [
      "bulbasaur\n",
      "overgrow\n",
      "64\n",
      "https://raw.githubusercontent.com/PokeAPI/sprites/master/sprites/pokemon/shiny/1.png\n",
      "[{'base_stat': 45, 'effort': 0, 'stat': {'name': 'hp', 'url': 'https://pokeapi.co/api/v2/stat/1/'}}, {'base_stat': 49, 'effort': 0, 'stat': {'name': 'attack', 'url': 'https://pokeapi.co/api/v2/stat/2/'}}, {'base_stat': 49, 'effort': 0, 'stat': {'name': 'defense', 'url': 'https://pokeapi.co/api/v2/stat/3/'}}, {'base_stat': 65, 'effort': 1, 'stat': {'name': 'special-attack', 'url': 'https://pokeapi.co/api/v2/stat/4/'}}, {'base_stat': 65, 'effort': 0, 'stat': {'name': 'special-defense', 'url': 'https://pokeapi.co/api/v2/stat/5/'}}, {'base_stat': 45, 'effort': 0, 'stat': {'name': 'speed', 'url': 'https://pokeapi.co/api/v2/stat/6/'}}]\n"
     ]
    },
    {
     "ename": "KeyError",
     "evalue": "'base_stat'",
     "output_type": "error",
     "traceback": [
      "\u001b[0;31m---------------------------------------------------------------------------\u001b[0m",
      "\u001b[0;31mKeyError\u001b[0m                                  Traceback (most recent call last)",
      "\u001b[1;32m/Users/jenilljackson/Desktop/Codingtemple/thieves_133/week4/day4/Intro to APIs EMPTY.ipynb Cell 16\u001b[0m line \u001b[0;36m1\n\u001b[1;32m     <a href='vscode-notebook-cell:/Users/jenilljackson/Desktop/Codingtemple/thieves_133/week4/day4/Intro%20to%20APIs%20EMPTY.ipynb#X21sZmlsZQ%3D%3D?line=14'>15</a>\u001b[0m pokemon_attack_baseStats \u001b[39m=\u001b[39m data[\u001b[39m'\u001b[39m\u001b[39mstats\u001b[39m\u001b[39m'\u001b[39m]\n\u001b[1;32m     <a href='vscode-notebook-cell:/Users/jenilljackson/Desktop/Codingtemple/thieves_133/week4/day4/Intro%20to%20APIs%20EMPTY.ipynb#X21sZmlsZQ%3D%3D?line=15'>16</a>\u001b[0m \u001b[39mprint\u001b[39m(pokemon_attack_baseStats)\n\u001b[0;32m---> <a href='vscode-notebook-cell:/Users/jenilljackson/Desktop/Codingtemple/thieves_133/week4/day4/Intro%20to%20APIs%20EMPTY.ipynb#X21sZmlsZQ%3D%3D?line=17'>18</a>\u001b[0m pokemon_hp_baseStat \u001b[39m=\u001b[39m data[\u001b[39m'\u001b[39m\u001b[39mbase_stat\u001b[39m\u001b[39m'\u001b[39m][\u001b[39m'\u001b[39m\u001b[39mstats\u001b[39m\u001b[39m'\u001b[39m][\u001b[39m'\u001b[39m\u001b[39mstat\u001b[39m\u001b[39m'\u001b[39m][\u001b[39m'\u001b[39m\u001b[39mname\u001b[39m\u001b[39m'\u001b[39m]\n\u001b[1;32m     <a href='vscode-notebook-cell:/Users/jenilljackson/Desktop/Codingtemple/thieves_133/week4/day4/Intro%20to%20APIs%20EMPTY.ipynb#X21sZmlsZQ%3D%3D?line=18'>19</a>\u001b[0m \u001b[39mprint\u001b[39m(pokemon_hp_baseStat)\n",
      "\u001b[0;31mKeyError\u001b[0m: 'base_stat'"
     ]
    }
   ],
   "source": [
    "#3 --VENUSAUR--url = 'https://pokeapi.co/api/v2/pokemon/3/'\n",
    "\n",
    "poke_char_name = data['forms'][0]['name']\n",
    "print(pokemon_char_name)\n",
    "\n",
    "pokemon_char_data = data['abilities'][0]['ability']['name']\n",
    "print(pokemon_char_data)\n",
    "\n",
    "pokemon_base_experience = data['base_experience']\n",
    "print(pokemon_base_experience)\n",
    "\n",
    "pokemon_front_shiny = data['sprites']['front_shiny']\n",
    "print(pokemon_front_shiny)\n",
    "\n",
    "pokemon_attack_baseStats = data['stats']\n",
    "print(pokemon_attack_baseStats)\n",
    "\n",
    "pokemon_hp_baseStat = data['base_stat']['stats']['stat']['name']\n",
    "print(pokemon_hp_baseStat)\n",
    "\n",
    "# **** url to it's sprite - \"front_shiny or dream_world\" ****\n",
    "\n",
    "    #name\n",
    "    #1+ ability name,\n",
    "    #base experience\n",
    "    #url to it's sprite - \"front_shiny or dream_world\"\n",
    "    #attack base stat\n",
    "    #hp base stat\n",
    "    # and defence base statprint(pokemon_base_experience)"
   ]
  },
  {
   "cell_type": "code",
   "execution_count": 38,
   "metadata": {},
   "outputs": [
    {
     "name": "stdout",
     "output_type": "stream",
     "text": [
      "bulbasaur\n",
      "overgrow\n",
      "64\n",
      "https://raw.githubusercontent.com/PokeAPI/sprites/master/sprites/pokemon/shiny/1.png\n",
      "[{'base_stat': 45, 'effort': 0, 'stat': {'name': 'hp', 'url': 'https://pokeapi.co/api/v2/stat/1/'}}, {'base_stat': 49, 'effort': 0, 'stat': {'name': 'attack', 'url': 'https://pokeapi.co/api/v2/stat/2/'}}, {'base_stat': 49, 'effort': 0, 'stat': {'name': 'defense', 'url': 'https://pokeapi.co/api/v2/stat/3/'}}, {'base_stat': 65, 'effort': 1, 'stat': {'name': 'special-attack', 'url': 'https://pokeapi.co/api/v2/stat/4/'}}, {'base_stat': 65, 'effort': 0, 'stat': {'name': 'special-defense', 'url': 'https://pokeapi.co/api/v2/stat/5/'}}, {'base_stat': 45, 'effort': 0, 'stat': {'name': 'speed', 'url': 'https://pokeapi.co/api/v2/stat/6/'}}]\n"
     ]
    },
    {
     "ename": "KeyError",
     "evalue": "'base_stat'",
     "output_type": "error",
     "traceback": [
      "\u001b[0;31m---------------------------------------------------------------------------\u001b[0m",
      "\u001b[0;31mKeyError\u001b[0m                                  Traceback (most recent call last)",
      "\u001b[1;32m/Users/jenilljackson/Desktop/Codingtemple/thieves_133/week4/day4/Intro to APIs EMPTY.ipynb Cell 17\u001b[0m line \u001b[0;36m1\n\u001b[1;32m     <a href='vscode-notebook-cell:/Users/jenilljackson/Desktop/Codingtemple/thieves_133/week4/day4/Intro%20to%20APIs%20EMPTY.ipynb#X40sZmlsZQ%3D%3D?line=14'>15</a>\u001b[0m pokemon_attack_baseStats \u001b[39m=\u001b[39m data[\u001b[39m'\u001b[39m\u001b[39mstats\u001b[39m\u001b[39m'\u001b[39m]\n\u001b[1;32m     <a href='vscode-notebook-cell:/Users/jenilljackson/Desktop/Codingtemple/thieves_133/week4/day4/Intro%20to%20APIs%20EMPTY.ipynb#X40sZmlsZQ%3D%3D?line=15'>16</a>\u001b[0m \u001b[39mprint\u001b[39m(pokemon_attack_baseStats)\n\u001b[0;32m---> <a href='vscode-notebook-cell:/Users/jenilljackson/Desktop/Codingtemple/thieves_133/week4/day4/Intro%20to%20APIs%20EMPTY.ipynb#X40sZmlsZQ%3D%3D?line=17'>18</a>\u001b[0m pokemon_hp_baseStat \u001b[39m=\u001b[39m data[\u001b[39m'\u001b[39m\u001b[39mbase_stat\u001b[39m\u001b[39m'\u001b[39m][\u001b[39m'\u001b[39m\u001b[39mstats\u001b[39m\u001b[39m'\u001b[39m][\u001b[39m'\u001b[39m\u001b[39mstat\u001b[39m\u001b[39m'\u001b[39m][\u001b[39m'\u001b[39m\u001b[39mname\u001b[39m\u001b[39m'\u001b[39m]\n\u001b[1;32m     <a href='vscode-notebook-cell:/Users/jenilljackson/Desktop/Codingtemple/thieves_133/week4/day4/Intro%20to%20APIs%20EMPTY.ipynb#X40sZmlsZQ%3D%3D?line=18'>19</a>\u001b[0m \u001b[39mprint\u001b[39m(pokemon_hp_baseStat)\n",
      "\u001b[0;31mKeyError\u001b[0m: 'base_stat'"
     ]
    }
   ],
   "source": [
    "#4 --CHARMANDER--url = 'https://pokeapi.co/api/v2/pokemon/4/'\n",
    "\n",
    "poke_char_name = data['forms'][0]['name']\n",
    "print(pokemon_char_name)\n",
    "\n",
    "pokemon_char_data = data['abilities'][0]['ability']['name']\n",
    "print(pokemon_char_data)\n",
    "\n",
    "pokemon_base_experience = data['base_experience']\n",
    "print(pokemon_base_experience)\n",
    "\n",
    "pokemon_front_shiny = data['sprites']['front_shiny']\n",
    "print(pokemon_front_shiny)\n",
    "\n",
    "pokemon_attack_baseStats = data['stats']\n",
    "print(pokemon_attack_baseStats)\n",
    "\n",
    "pokemon_hp_baseStat = data['base_stat']['stats']['stat']['name']\n",
    "print(pokemon_hp_baseStat)\n",
    "\n",
    "# **** url to it's sprite - \"front_shiny or dream_world\" ****\n",
    "\n",
    "    #name\n",
    "    #1+ ability name,\n",
    "    #base experience\n",
    "    #url to it's sprite - \"front_shiny or dream_world\"\n",
    "    #attack base stat\n",
    "    #hp base stat\n",
    "    # and defence base statprint(pokemon_base_experience)"
   ]
  },
  {
   "cell_type": "code",
   "execution_count": 39,
   "metadata": {},
   "outputs": [
    {
     "name": "stdout",
     "output_type": "stream",
     "text": [
      "bulbasaur\n",
      "overgrow\n",
      "64\n",
      "https://raw.githubusercontent.com/PokeAPI/sprites/master/sprites/pokemon/shiny/1.png\n",
      "[{'base_stat': 45, 'effort': 0, 'stat': {'name': 'hp', 'url': 'https://pokeapi.co/api/v2/stat/1/'}}, {'base_stat': 49, 'effort': 0, 'stat': {'name': 'attack', 'url': 'https://pokeapi.co/api/v2/stat/2/'}}, {'base_stat': 49, 'effort': 0, 'stat': {'name': 'defense', 'url': 'https://pokeapi.co/api/v2/stat/3/'}}, {'base_stat': 65, 'effort': 1, 'stat': {'name': 'special-attack', 'url': 'https://pokeapi.co/api/v2/stat/4/'}}, {'base_stat': 65, 'effort': 0, 'stat': {'name': 'special-defense', 'url': 'https://pokeapi.co/api/v2/stat/5/'}}, {'base_stat': 45, 'effort': 0, 'stat': {'name': 'speed', 'url': 'https://pokeapi.co/api/v2/stat/6/'}}]\n"
     ]
    },
    {
     "ename": "KeyError",
     "evalue": "'base_stat'",
     "output_type": "error",
     "traceback": [
      "\u001b[0;31m---------------------------------------------------------------------------\u001b[0m",
      "\u001b[0;31mKeyError\u001b[0m                                  Traceback (most recent call last)",
      "\u001b[1;32m/Users/jenilljackson/Desktop/Codingtemple/thieves_133/week4/day4/Intro to APIs EMPTY.ipynb Cell 18\u001b[0m line \u001b[0;36m1\n\u001b[1;32m     <a href='vscode-notebook-cell:/Users/jenilljackson/Desktop/Codingtemple/thieves_133/week4/day4/Intro%20to%20APIs%20EMPTY.ipynb#X36sZmlsZQ%3D%3D?line=14'>15</a>\u001b[0m pokemon_attack_baseStats \u001b[39m=\u001b[39m data[\u001b[39m'\u001b[39m\u001b[39mstats\u001b[39m\u001b[39m'\u001b[39m]\n\u001b[1;32m     <a href='vscode-notebook-cell:/Users/jenilljackson/Desktop/Codingtemple/thieves_133/week4/day4/Intro%20to%20APIs%20EMPTY.ipynb#X36sZmlsZQ%3D%3D?line=15'>16</a>\u001b[0m \u001b[39mprint\u001b[39m(pokemon_attack_baseStats)\n\u001b[0;32m---> <a href='vscode-notebook-cell:/Users/jenilljackson/Desktop/Codingtemple/thieves_133/week4/day4/Intro%20to%20APIs%20EMPTY.ipynb#X36sZmlsZQ%3D%3D?line=17'>18</a>\u001b[0m pokemon_hp_baseStat \u001b[39m=\u001b[39m data[\u001b[39m'\u001b[39m\u001b[39mbase_stat\u001b[39m\u001b[39m'\u001b[39m][\u001b[39m'\u001b[39m\u001b[39mstats\u001b[39m\u001b[39m'\u001b[39m][\u001b[39m'\u001b[39m\u001b[39mstat\u001b[39m\u001b[39m'\u001b[39m][\u001b[39m'\u001b[39m\u001b[39mname\u001b[39m\u001b[39m'\u001b[39m]\n\u001b[1;32m     <a href='vscode-notebook-cell:/Users/jenilljackson/Desktop/Codingtemple/thieves_133/week4/day4/Intro%20to%20APIs%20EMPTY.ipynb#X36sZmlsZQ%3D%3D?line=18'>19</a>\u001b[0m \u001b[39mprint\u001b[39m(pokemon_hp_baseStat)\n",
      "\u001b[0;31mKeyError\u001b[0m: 'base_stat'"
     ]
    }
   ],
   "source": [
    "#5 --CHARMELEON--url = 'https://pokeapi.co/api/v2/pokemon/5/'\n",
    "\n",
    "poke_char_name = data['forms'][0]['name']\n",
    "print(pokemon_char_name)\n",
    "\n",
    "pokemon_char_data = data['abilities'][0]['ability']['name']\n",
    "print(pokemon_char_data)\n",
    "\n",
    "pokemon_base_experience = data['base_experience']\n",
    "print(pokemon_base_experience)\n",
    "\n",
    "pokemon_front_shiny = data['sprites']['front_shiny']\n",
    "print(pokemon_front_shiny)\n",
    "\n",
    "pokemon_attack_baseStats = data['stats']\n",
    "print(pokemon_attack_baseStats)\n",
    "\n",
    "pokemon_hp_baseStat = data['base_stat']['stats']['stat']['name']\n",
    "print(pokemon_hp_baseStat)\n",
    "\n",
    "# **** url to it's sprite - \"front_shiny or dream_world\" ****\n",
    "\n",
    "    #name\n",
    "    #1+ ability name,\n",
    "    #base experience\n",
    "    #url to it's sprite - \"front_shiny or dream_world\"\n",
    "    #attack base stat\n",
    "    #hp base stat\n",
    "    # and defence base statprint(pokemon_base_experience)"
   ]
  },
  {
   "cell_type": "markdown",
   "id": "6d546014",
   "metadata": {},
   "source": [
    "# <strong>Homework</strong>\n",
    "check out this Pokemon API https://pokeapi.co/\n",
    "Use the requests package to connect to this API and get and store data for 5 different pokemon.\n",
    "Get the pokemons: name, atleast one ability's name, base_experience, and the URL for its sprite (an image that shows up on screen) for the 'front_shiny', attack base_stat, hp base_stat, defense base_stat"
   ]
  },
  {
   "cell_type": "code",
   "execution_count": null,
   "id": "5a9081e3",
   "metadata": {},
   "outputs": [],
   "source": [
    "#import needed Libraries - Pokemon #1, 2, 3, 4, 5\n",
    "#Set URL\n",
    "#Must return to 200 \n",
    "#store the response\n",
    "#print loop that gets up details of 5 different pokemon\n",
    "#Needs to display:\n",
    "    #name\n",
    "    #1+ ability name,\n",
    "    #base experience\n",
    "    #url to it's sprite\n",
    "    #attack base stat\n",
    "    #hp base stat\n",
    "    # and defence base stat\n",
    "\n",
    "\n"
   ]
  }
 ],
 "metadata": {
  "kernelspec": {
   "display_name": "Python 3.10.8 64-bit (microsoft store)",
   "language": "python",
   "name": "python3"
  },
  "language_info": {
   "codemirror_mode": {
    "name": "ipython",
    "version": 3
   },
   "file_extension": ".py",
   "mimetype": "text/x-python",
   "name": "python",
   "nbconvert_exporter": "python",
   "pygments_lexer": "ipython3",
   "version": "3.11.4"
  },
  "vscode": {
   "interpreter": {
    "hash": "aa82987a71ca0339a52998cd22613b0c002bda8349fa32a0cb67ceec3936a2bf"
   }
  }
 },
 "nbformat": 4,
 "nbformat_minor": 5
}
