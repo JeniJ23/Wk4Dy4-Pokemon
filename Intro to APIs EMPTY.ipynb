{
 "cells": [
  {
   "cell_type": "markdown",
   "id": "7196054f",
   "metadata": {},
   "source": [
    "# Working with APIs"
   ]
  },
  {
   "cell_type": "markdown",
   "id": "0547b71e",
   "metadata": {},
   "source": [
    "API stands for Application programming interface<br>\n",
    "APIs are a way for applications to talk to eachother<br>\n",
    "In python we use the requests package to handle the connection<br>\n",
    "<small><strong>Note: It is requests with an s not request(this is a different package)</strong></small><br>\n",
    "Most API's communicate with data in the form of JSON<br>\n",
    "JSON stands for JavaScript Object Notation"
   ]
  },
  {
   "attachments": {},
   "cell_type": "markdown",
   "id": "cc80a1f0",
   "metadata": {},
   "source": [
    "### importing requests module"
   ]
  },
  {
   "cell_type": "code",
   "execution_count": 13,
   "id": "4db9d154",
   "metadata": {},
   "outputs": [],
   "source": [
    "import requests "
   ]
  },
  {
   "cell_type": "markdown",
   "id": "e8c2ce51",
   "metadata": {},
   "source": [
    "We will be connecting to the Pokemon API today:\n",
    "https://pokeapi.co/api/v2/pokemon/1/\n",
    "https://pokeapi.co/api/v2/pokemon/2/\n",
    "https://pokeapi.co/api/v2/pokemon/3/\n",
    "https://pokeapi.co/api/v2/pokemon/4/\n",
    "https://pokeapi.co/api/v2/pokemon/5/\n",
    "\n",
    "\n",
    "to view JSON data nicely in the Chrome browser install the extension JSONview"
   ]
  },
  {
   "cell_type": "code",
   "execution_count": 14,
   "id": "52c440c6",
   "metadata": {},
   "outputs": [],
   "source": [
    "# Make sure to attach extension .json at the end of url\n",
    "url = 'https://pokeapi.co/api/v2/pokemon/1/'"
   ]
  },
  {
   "attachments": {},
   "cell_type": "markdown",
   "id": "1f8dc8b3",
   "metadata": {},
   "source": [
    "### using the request package to access data from api/url"
   ]
  },
  {
   "cell_type": "code",
   "execution_count": 15,
   "id": "07432873",
   "metadata": {},
   "outputs": [
    {
     "name": "stdout",
     "output_type": "stream",
     "text": [
      "<class 'requests.models.Response'>\n"
     ]
    }
   ],
   "source": [
    "response = requests.get(url)\n",
    "print(type(response))"
   ]
  },
  {
   "attachments": {},
   "cell_type": "markdown",
   "id": "52f840a9",
   "metadata": {},
   "source": [
    "### checking and making sure we got a successful response from our API\n",
    "#### status codes: 200 = ok/successful, 400 = bad/unsuccessful"
   ]
  },
  {
   "cell_type": "code",
   "execution_count": 16,
   "id": "7b63a204",
   "metadata": {},
   "outputs": [
    {
     "data": {
      "text/plain": [
       "True"
      ]
     },
     "execution_count": 16,
     "metadata": {},
     "output_type": "execute_result"
    }
   ],
   "source": [
    "response.status_code\n",
    "response.ok"
   ]
  },
  {
   "attachments": {},
   "cell_type": "markdown",
   "id": "bc3fa89d",
   "metadata": {},
   "source": [
    "### view the response as a JSON with .json()"
   ]
  },
  {
   "cell_type": "code",
   "execution_count": 17,
   "id": "ed4d3256",
   "metadata": {},
   "outputs": [],
   "source": [
    "data = response.json()"
   ]
  },
  {
   "attachments": {},
   "cell_type": "markdown",
   "id": "3b49045f",
   "metadata": {},
   "source": [
    "### Get Pokemom Data from JSON"
   ]
  },
  {
   "cell_type": "code",
   "execution_count": 18,
   "id": "afc55f96",
   "metadata": {},
   "outputs": [
    {
     "name": "stdout",
     "output_type": "stream",
     "text": [
      "bulbasaur\n",
      "overgrow\n",
      "64\n",
      "https://raw.githubusercontent.com/PokeAPI/sprites/master/sprites/pokemon/shiny/1.png\n",
      "[{'base_stat': 45, 'effort': 0, 'stat': {'name': 'hp', 'url': 'https://pokeapi.co/api/v2/stat/1/'}}, {'base_stat': 49, 'effort': 0, 'stat': {'name': 'attack', 'url': 'https://pokeapi.co/api/v2/stat/2/'}}, {'base_stat': 49, 'effort': 0, 'stat': {'name': 'defense', 'url': 'https://pokeapi.co/api/v2/stat/3/'}}, {'base_stat': 65, 'effort': 1, 'stat': {'name': 'special-attack', 'url': 'https://pokeapi.co/api/v2/stat/4/'}}, {'base_stat': 65, 'effort': 0, 'stat': {'name': 'special-defense', 'url': 'https://pokeapi.co/api/v2/stat/5/'}}, {'base_stat': 45, 'effort': 0, 'stat': {'name': 'speed', 'url': 'https://pokeapi.co/api/v2/stat/6/'}}]\n"
     ]
    }
   ],
   "source": [
    "#1 -- BULBASAUR --url = 'https://pokeapi.co/api/v2/pokemon/1/'\n",
    "\n",
    "pokemon_char_name = data['forms'][0]['name']\n",
    "print(pokemon_char_name)\n",
    "\n",
    "pokemon_char_data = data['abilities'][0]['ability']['name']\n",
    "print(pokemon_char_data)\n",
    "\n",
    "pokemon_base_experience = data['base_experience']\n",
    "print(pokemon_base_experience)\n",
    "\n",
    "pokemon_front_shiny = data['sprites']['front_shiny']\n",
    "print(pokemon_front_shiny)\n",
    "\n",
    "pokemon_attack_baseStats = data['stats']\n",
    "print(pokemon_attack_baseStats)\n",
    "\n",
    "\n",
    "# **** url to it's sprite - \"front_shiny or dream_world\" ****\n",
    "\n",
    "    #name\n",
    "    #1+ ability name,\n",
    "    #base experience\n",
    "    #url to it's sprite - \"front_shiny or dream_world\"\n",
    "    #attack base stat\n",
    "    #hp base stat\n",
    "    # and defence base statprint(pokemon_base_experience)"
   ]
  },
  {
   "cell_type": "code",
   "execution_count": 23,
   "id": "e4cd855a",
   "metadata": {},
   "outputs": [
    {
     "ename": "NameError",
     "evalue": "name 'data' is not defined",
     "output_type": "error",
     "traceback": [
      "\u001b[0;31m---------------------------------------------------------------------------\u001b[0m",
      "\u001b[0;31mNameError\u001b[0m                                 Traceback (most recent call last)",
      "\u001b[1;32m/Users/jenilljackson/Desktop/Codingtemple/thieves_133/week4/day4/Intro to APIs EMPTY.ipynb Cell 15\u001b[0m line \u001b[0;36m3\n\u001b[1;32m      <a href='vscode-notebook-cell:/Users/jenilljackson/Desktop/Codingtemple/thieves_133/week4/day4/Intro%20to%20APIs%20EMPTY.ipynb#X24sZmlsZQ%3D%3D?line=0'>1</a>\u001b[0m \u001b[39m#2 -- IVYSAUR --url = 'https://pokeapi.co/api/v2/pokemon/2/'\u001b[39;00m\n\u001b[0;32m----> <a href='vscode-notebook-cell:/Users/jenilljackson/Desktop/Codingtemple/thieves_133/week4/day4/Intro%20to%20APIs%20EMPTY.ipynb#X24sZmlsZQ%3D%3D?line=2'>3</a>\u001b[0m pokemon_char_name \u001b[39m=\u001b[39m data[\u001b[39m'\u001b[39m\u001b[39mforms\u001b[39m\u001b[39m'\u001b[39m][\u001b[39m0\u001b[39m][\u001b[39m'\u001b[39m\u001b[39mname\u001b[39m\u001b[39m'\u001b[39m]\n\u001b[1;32m      <a href='vscode-notebook-cell:/Users/jenilljackson/Desktop/Codingtemple/thieves_133/week4/day4/Intro%20to%20APIs%20EMPTY.ipynb#X24sZmlsZQ%3D%3D?line=3'>4</a>\u001b[0m \u001b[39mprint\u001b[39m(pokemon_char_name)\n\u001b[1;32m      <a href='vscode-notebook-cell:/Users/jenilljackson/Desktop/Codingtemple/thieves_133/week4/day4/Intro%20to%20APIs%20EMPTY.ipynb#X24sZmlsZQ%3D%3D?line=5'>6</a>\u001b[0m pokemon_char_data \u001b[39m=\u001b[39m data[\u001b[39m'\u001b[39m\u001b[39mabilities\u001b[39m\u001b[39m'\u001b[39m][\u001b[39m0\u001b[39m][\u001b[39m'\u001b[39m\u001b[39mability\u001b[39m\u001b[39m'\u001b[39m][\u001b[39m'\u001b[39m\u001b[39mname\u001b[39m\u001b[39m'\u001b[39m]\n",
      "\u001b[0;31mNameError\u001b[0m: name 'data' is not defined"
     ]
    }
   ],
   "source": [
    "#2 -- IVYSAUR --url = 'https://pokeapi.co/api/v2/pokemon/2/'\n",
    "\n",
    "pokemon_char_name = data['forms'][0]['name']\n",
    "print(pokemon_char_name)\n",
    "\n",
    "pokemon_char_data = data['abilities'][0]['ability']['name']\n",
    "print(pokemon_char_data)\n",
    "\n",
    "pokemon_base_experience = data['base_experience']\n",
    "print(pokemon_base_experience)\n",
    "\n",
    "pokemon_front_shiny = data['sprites']['front_shiny']\n",
    "print(pokemon_front_shiny)\n",
    "\n",
    "pokemon_attack_baseStats = data['stats']\n",
    "print(pokemon_attack_baseStats)\n",
    "\n",
    "\n",
    "# **** url to it's sprite - \"front_shiny or dream_world\" ****\n",
    "\n",
    "    #name\n",
    "    #1+ ability name,\n",
    "    #base experience\n",
    "    #url to it's sprite - \"front_shiny or dream_world\"\n",
    "    #attack base stat\n",
    "    #hp base stat\n",
    "    # and defence base statprint(pokemon_base_experience)"
   ]
  },
  {
   "cell_type": "code",
   "execution_count": null,
   "id": "f074dfcf",
   "metadata": {},
   "outputs": [],
   "source": [
    "#3 --VENUSAUR--url = 'https://pokeapi.co/api/v2/pokemon/3/'\n",
    "\n",
    "poke_char_name = data['forms'][0]['name']\n",
    "print(pokemon_char_name)\n",
    "\n",
    "pokemon_char_data = data['abilities'][0]['ability']['name']\n",
    "print(pokemon_char_data)\n",
    "\n",
    "pokemon_base_experience = data['base_experience']\n",
    "print(pokemon_base_experience)\n",
    "\n",
    "pokemon_front_shiny = data['sprites']['front_shiny']\n",
    "print(pokemon_front_shiny)\n",
    "\n",
    "pokemon_attack_baseStats = data['stats']\n",
    "print(pokemon_attack_baseStats)\n",
    "\n",
    "\n",
    "# **** url to it's sprite - \"front_shiny or dream_world\" ****\n",
    "\n",
    "    #name\n",
    "    #1+ ability name,\n",
    "    #base experience\n",
    "    #url to it's sprite - \"front_shiny or dream_world\"\n",
    "    #attack base stat\n",
    "    #hp base stat\n",
    "    # and defence base statprint(pokemon_base_experience)"
   ]
  },
  {
   "cell_type": "code",
   "execution_count": 5,
   "metadata": {},
   "outputs": [
    {
     "ename": "NameError",
     "evalue": "name 'data' is not defined",
     "output_type": "error",
     "traceback": [
      "\u001b[0;31m---------------------------------------------------------------------------\u001b[0m",
      "\u001b[0;31mNameError\u001b[0m                                 Traceback (most recent call last)",
      "\u001b[1;32m/Users/jenilljackson/Desktop/Codingtemple/thieves_133/week4/day4/Intro to APIs EMPTY.ipynb Cell 21\u001b[0m line \u001b[0;36m3\n\u001b[1;32m      <a href='vscode-notebook-cell:/Users/jenilljackson/Desktop/Codingtemple/thieves_133/week4/day4/Intro%20to%20APIs%20EMPTY.ipynb#X26sZmlsZQ%3D%3D?line=0'>1</a>\u001b[0m \u001b[39m#4 --CHARMANDER--url = 'https://pokeapi.co/api/v2/pokemon/4/'\u001b[39;00m\n\u001b[0;32m----> <a href='vscode-notebook-cell:/Users/jenilljackson/Desktop/Codingtemple/thieves_133/week4/day4/Intro%20to%20APIs%20EMPTY.ipynb#X26sZmlsZQ%3D%3D?line=2'>3</a>\u001b[0m poke_char_name \u001b[39m=\u001b[39m data[\u001b[39m'\u001b[39m\u001b[39mforms\u001b[39m\u001b[39m'\u001b[39m][\u001b[39m0\u001b[39m][\u001b[39m'\u001b[39m\u001b[39mname\u001b[39m\u001b[39m'\u001b[39m]\n\u001b[1;32m      <a href='vscode-notebook-cell:/Users/jenilljackson/Desktop/Codingtemple/thieves_133/week4/day4/Intro%20to%20APIs%20EMPTY.ipynb#X26sZmlsZQ%3D%3D?line=3'>4</a>\u001b[0m \u001b[39mprint\u001b[39m(pokemon_char_name)\n\u001b[1;32m      <a href='vscode-notebook-cell:/Users/jenilljackson/Desktop/Codingtemple/thieves_133/week4/day4/Intro%20to%20APIs%20EMPTY.ipynb#X26sZmlsZQ%3D%3D?line=5'>6</a>\u001b[0m pokemon_char_data \u001b[39m=\u001b[39m data[\u001b[39m'\u001b[39m\u001b[39mabilities\u001b[39m\u001b[39m'\u001b[39m][\u001b[39m0\u001b[39m][\u001b[39m'\u001b[39m\u001b[39mability\u001b[39m\u001b[39m'\u001b[39m][\u001b[39m'\u001b[39m\u001b[39mname\u001b[39m\u001b[39m'\u001b[39m]\n",
      "\u001b[0;31mNameError\u001b[0m: name 'data' is not defined"
     ]
    }
   ],
   "source": [
    "#4 --CHARMANDER--url = 'https://pokeapi.co/api/v2/pokemon/4/'\n",
    "\n",
    "poke_char_name = data['forms'][0]['name']\n",
    "print(pokemon_char_name)\n",
    "\n",
    "pokemon_char_data = data['abilities'][0]['ability']['name']\n",
    "print(pokemon_char_data)\n",
    "\n",
    "pokemon_base_experience = data['base_experience']\n",
    "print(pokemon_base_experience)\n",
    "\n",
    "pokemon_front_shiny = data['sprites']['front_shiny']\n",
    "print(pokemon_front_shiny)\n",
    "\n",
    "pokemon_attack_baseStats = data['stats']\n",
    "print(pokemon_attack_baseStats)\n",
    "\n",
    "# **** url to it's sprite - \"front_shiny or dream_world\" ****\n",
    "\n",
    "    #name\n",
    "    #1+ ability name,\n",
    "    #base experience\n",
    "    #url to it's sprite - \"front_shiny or dream_world\"\n",
    "    #attack base stat\n",
    "    #hp base stat\n",
    "    # and defence base statprint(pokemon_base_experience)"
   ]
  },
  {
   "cell_type": "code",
   "execution_count": null,
   "metadata": {},
   "outputs": [],
   "source": [
    "#5 --CHARMELEON--url = 'https://pokeapi.co/api/v2/pokemon/5/'\n",
    "\n",
    "poke_char_name = data['forms'][0]['name']\n",
    "print(pokemon_char_name)\n",
    "\n",
    "pokemon_char_data = data['abilities'][0]['ability']['name']\n",
    "print(pokemon_char_data)\n",
    "\n",
    "pokemon_base_experience = data['base_experience']\n",
    "print(pokemon_base_experience)\n",
    "\n",
    "pokemon_front_shiny = data['sprites']['front_shiny']\n",
    "print(pokemon_front_shiny)\n",
    "\n",
    "pokemon_attack_baseStats = data['stats']\n",
    "print(pokemon_attack_baseStats)\n",
    "\n",
    "pokemon_hp_baseStat = data['base_stat']['stats']['stat']['name']\n",
    "print(pokemon_hp_baseStat)\n",
    "\n",
    "# **** url to it's sprite - \"front_shiny or dream_world\" ****\n",
    "\n",
    "    #name\n",
    "    #1+ ability name,\n",
    "    #base experience\n",
    "    #url to it's sprite - \"front_shiny or dream_world\"\n",
    "    #attack base stat\n",
    "    #hp base stat\n",
    "    # and defence base statprint(pokemon_base_experience)"
   ]
  },
  {
   "cell_type": "markdown",
   "metadata": {},
   "source": [
    "### Get the Driver Standings Data from JSON"
   ]
  },
  {
   "cell_type": "code",
   "execution_count": 32,
   "metadata": {},
   "outputs": [
    {
     "ename": "NameError",
     "evalue": "name 'data' is not defined",
     "output_type": "error",
     "traceback": [
      "\u001b[0;31m---------------------------------------------------------------------------\u001b[0m",
      "\u001b[0;31mNameError\u001b[0m                                 Traceback (most recent call last)",
      "\u001b[1;32m/Users/jenilljackson/Desktop/Codingtemple/thieves_133/week4/day4/Intro to APIs EMPTY.ipynb Cell 20\u001b[0m line \u001b[0;36m1\n\u001b[0;32m----> <a href='vscode-notebook-cell:/Users/jenilljackson/Desktop/Codingtemple/thieves_133/week4/day4/Intro%20to%20APIs%20EMPTY.ipynb#X34sZmlsZQ%3D%3D?line=0'>1</a>\u001b[0m poke_data \u001b[39m=\u001b[39m data[\u001b[39m'\u001b[39m\u001b[39mchar_data\u001b[39m\u001b[39m'\u001b[39m][\u001b[39m'\u001b[39m\u001b[39mbase_experience\u001b[39m\u001b[39m'\u001b[39m][\u001b[39m'\u001b[39m\u001b[39mfront_shiny\u001b[39m\u001b[39m'\u001b[39m][\u001b[39m0\u001b[39m][\u001b[39m'\u001b[39m\u001b[39mattack_baseStat\u001b[39m\u001b[39m'\u001b[39m][\u001b[39m'\u001b[39m\u001b[39mbase_stats\u001b[39m\u001b[39m'\u001b[39m]\n\u001b[1;32m      <a href='vscode-notebook-cell:/Users/jenilljackson/Desktop/Codingtemple/thieves_133/week4/day4/Intro%20to%20APIs%20EMPTY.ipynb#X34sZmlsZQ%3D%3D?line=1'>2</a>\u001b[0m \u001b[39mprint\u001b[39m(poke_data)\n",
      "\u001b[0;31mNameError\u001b[0m: name 'data' is not defined"
     ]
    }
   ],
   "source": [
    "poke_data = data['char_data']['base_experience']['front_shiny'][0]['attack_baseStat']['base_stats']\n",
    "print(poke_data)"
   ]
  },
  {
   "cell_type": "markdown",
   "id": "6d546014",
   "metadata": {},
   "source": [
    "# <strong>Homework</strong>\n",
    "check out this Pokemon API https://pokeapi.co/\n",
    "Use the requests package to connect to this API and get and store data for 5 different pokemon.\n",
    "Get the pokemons: name, atleast one ability's name, base_experience, and the URL for its sprite (an image that shows up on screen) for the 'front_shiny', attack base_stat, hp base_stat, defense base_stat"
   ]
  },
  {
   "cell_type": "code",
   "execution_count": 33,
   "id": "5a9081e3",
   "metadata": {},
   "outputs": [
    {
     "ename": "SyntaxError",
     "evalue": "unterminated string literal (detected at line 17) (4249728988.py, line 17)",
     "output_type": "error",
     "traceback": [
      "\u001b[0;36m  Cell \u001b[0;32mIn[33], line 17\u001b[0;36m\u001b[0m\n\u001b[0;31m    url = f'https://pokeapi.co/api/v2/pokemon/{name}\u001b[0m\n\u001b[0m          ^\u001b[0m\n\u001b[0;31mSyntaxError\u001b[0m\u001b[0;31m:\u001b[0m unterminated string literal (detected at line 17)\n"
     ]
    }
   ],
   "source": [
    "#import needed Libraries - Pokemon #1, 2, 3, 4, 5\n",
    "#Set URL\n",
    "#Must return to 200 \n",
    "#store the response\n",
    "#print loop that gets up details of 5 different pokemon\n",
    "#Needs to display:\n",
    "    #name\n",
    "    #1+ ability name,\n",
    "    #base experience\n",
    "    #url to it's sprite\n",
    "    #attack base stat\n",
    "    #hp base stat\n",
    "    # and defence base stat\n",
    "\n",
    "              \n",
    "def get_poke(name):\n",
    "    url = f'https://pokeapi.co/api/v2/pokemon/{name}\n",
    "    print(name)\n",
    "    response = requests.get(url)\n",
    "\n",
    "    new_data = response.json()\n",
    "    poke_dict = {\n",
    "        'name':data['name']\n",
    "        'char_data':data['abilities'][0]['ability']['name']\n",
    "        'base_experience':data['base_experience']\n",
    "        'front_shiny':data['sprites']['front_shiny'],\n",
    "        'attack_baseStat':['stats'],\n",
    "        'base_stats':['base_stat']['stats']['stat']['name']\n",
    "        }\n",
    "    \n",
    "    return poke_dict\n",
    "else:\n",
    "print(f'Failed to retrieve data for Pokemon {name}')\n",
    "return('None')"
   ]
  }
 ],
 "metadata": {
  "kernelspec": {
   "display_name": "Python 3.10.8 64-bit (microsoft store)",
   "language": "python",
   "name": "python3"
  },
  "language_info": {
   "codemirror_mode": {
    "name": "ipython",
    "version": 3
   },
   "file_extension": ".py",
   "mimetype": "text/x-python",
   "name": "python",
   "nbconvert_exporter": "python",
   "pygments_lexer": "ipython3",
   "version": "3.11.4"
  },
  "vscode": {
   "interpreter": {
    "hash": "aa82987a71ca0339a52998cd22613b0c002bda8349fa32a0cb67ceec3936a2bf"
   }
  }
 },
 "nbformat": 4,
 "nbformat_minor": 5
}
